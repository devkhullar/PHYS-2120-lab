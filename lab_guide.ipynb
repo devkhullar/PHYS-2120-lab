{
 "cells": [
  {
   "cell_type": "markdown",
   "id": "e9ec1bfa-c0e8-40ec-a814-90d5d1be6bd2",
   "metadata": {},
   "source": [
    "### Lab guide\n",
    "this is a lab guide for all the code that I can reuse for my labs"
   ]
  },
  {
   "cell_type": "code",
   "execution_count": 3,
   "id": "bee0de7b-57a5-4506-8787-3b1d587d0c60",
   "metadata": {},
   "outputs": [],
   "source": [
    "import numpy as np\n",
    "import matplotlib.pyplot as plt\n",
    "from scipy import optimize\n",
    "\n",
    "import scienceplots  \n",
    "plt.style.use(['science','notebook', 'grid'])\n",
    "\n",
    "from matplotlib import rc\n",
    "rc('text', usetex=True)\n",
    "font = {'family' : 'serif',\n",
    "        'weight' : 'bold',\n",
    "        'size'   : '14'}\n",
    "rc('font', **font)"
   ]
  },
  {
   "cell_type": "code",
   "execution_count": 7,
   "id": "d967baa3-f282-4f8d-82f6-a2453de6d706",
   "metadata": {},
   "outputs": [],
   "source": [
    "# Defining variables\n",
    "\n",
    "# x-data\n",
    "x = np.array([0, -0.0108, 0.0252, 0.0379, 0])\n",
    "# y-data\n",
    "y = np.array([90.5, 93.1, 93.07, 90.49, 90.5]) "
   ]
  },
  {
   "cell_type": "code",
   "execution_count": null,
   "id": "fca0198b-ae0f-4b56-800d-5da1b24d3f7b",
   "metadata": {},
   "outputs": [],
   "source": [
    "fig, ax = plt.subplots(nrows=1, ncols=1)\n",
    "colors = ['red','blue', 'green', 'purple', 'red']\n",
    "ax.plot(h, p, '-')  # label='$legend_label$'\n",
    "\n",
    "# error bars\n",
    "plt.errorbar(x, y, yerr=yerr, ecolor='k', capsize=3, ls='--')\n",
    "\n",
    "# Labels\n",
    "ax.set_ylabel(\"Absolute Pressure [kPa]\")\n",
    "ax.set_xlabel(\"Height [m]\")\n",
    "\n",
    "# Changing the limits of the x/y axis\n",
    "ax.set_xlim(-1.7, 4.3)\n",
    "\n",
    "# Creating a text book \n",
    "ax.text(0.22, 0.075, '$A$', transform=ax.transAxes, bbox=dict(facecolor='white', edgecolor='red'))\n",
    "\n",
    "# Legends\n",
    "ax.legend()\n",
    "# plt.savefig('fig1')  \n",
    "plt.show()"
   ]
  },
  {
   "cell_type": "code",
   "execution_count": null,
   "id": "af6f4f2b-709c-49b8-be2b-001d6cdc44d1",
   "metadata": {},
   "outputs": [],
   "source": [
    "# Curve fitting\n",
    "fake_x_data = np.linspace(4.99, 14, 100) # making fake data where we will plot the best fit line\n",
    "\n",
    "def polynomial(x, a, b, c): \n",
    "    return a*x**2 + b*x + c\n",
    "\n",
    "params, params_covariance = optimize.curve_fit(polynomial, real_x_data, real_y_data)\n",
    "print(params, '\\n')\n",
    "\n",
    "fitline = []\n",
    "for i in range(len(fake_x_data)):\n",
    "    fitline.append(polynomial(fake_x_data[i], params[0], params[1], params[2]))\n",
    "\n",
    "fig, ax = plt.subplots(nrows=1, ncols=1, figsize=(8,6))\n",
    "ax.plot(fake_x_data, fitline, '--')\n",
    "ax.scatter(real_x_data, real_y_data, marker = '^')"
   ]
  }
 ],
 "metadata": {
  "kernelspec": {
   "display_name": "anaconda-2024.02-py310",
   "language": "python",
   "name": "conda-env-anaconda-2024.02-py310-py"
  },
  "language_info": {
   "codemirror_mode": {
    "name": "ipython",
    "version": 3
   },
   "file_extension": ".py",
   "mimetype": "text/x-python",
   "name": "python",
   "nbconvert_exporter": "python",
   "pygments_lexer": "ipython3",
   "version": "3.10.14"
  }
 },
 "nbformat": 4,
 "nbformat_minor": 5
}
